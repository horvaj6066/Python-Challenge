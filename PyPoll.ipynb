{
 "cells": [
  {
   "cell_type": "code",
   "execution_count": 17,
   "metadata": {},
   "outputs": [
    {
     "name": "stdout",
     "output_type": "stream",
     "text": [
      "\n",
      "Khan 2218231 votes which is 62 percent of total votes.\n",
      "\n",
      "Correy 704200 votes which is 19 percent of total votes.\n",
      "\n",
      "Li 492940 votes which is 13 percent of total votes.\n",
      "\n",
      "O'Tooley 105630 votes which is 2 percent of total votes.\n",
      "\n",
      "Winner:  Khan\n"
     ]
    }
   ],
   "source": [
    "'''## PyPoll\n",
    "\n",
    "![Vote-Counting](Images/Vote_counting.jpg)\n",
    "\n",
    "* In this challenge, you are tasked with helping a small, rural town modernize its vote-counting process. (Up until now, Uncle Cleetus had been trustfully tallying them one-by-one, but unfortunately, his concentration isn't what it used to be.)\n",
    "\n",
    "* You will be give a set of poll data called [election_data.csv](PyPoll/Resources/election_data.csv). The dataset is composed of three columns: `Voter ID`, `County`, and `Candidate`. Your task is to create a Python script that analyzes the votes and calculates each of the following:\n",
    "\n",
    "  * The total number of votes cast\n",
    "\n",
    "  * A complete list of candidates who received votes\n",
    "\n",
    "  * The percentage of votes each candidate won\n",
    "\n",
    "  * The total number of votes each candidate won\n",
    "\n",
    "  * The winner of the election based on popular vote.\n",
    "\n",
    "* As an example, your analysis should look similar to the one below:\n",
    "\n",
    "  ```text\n",
    "  Election Results\n",
    "  -------------------------\n",
    "  Total Votes: 3521001\n",
    "  -------------------------\n",
    "  Khan: 63.000% (2218231)\n",
    "  Correy: 20.000% (704200)\n",
    "  Li: 14.000% (492940)\n",
    "  O'Tooley: 3.000% (105630)\n",
    "  -------------------------\n",
    "  Winner: Khan\n",
    "'''\n",
    "#first import needed libraries \n",
    "import os \n",
    "import csv\n",
    "import re\n",
    "\n",
    "#initialize variables\n",
    "voter_ID=[]\n",
    "county=[]\n",
    "candidate=[]\n",
    "unique_candidates=[]\n",
    "vote_count=[]\n",
    "\n",
    "\n",
    "#set path for file\n",
    "csvpath = os.path.join(\".\", \"Documents\", \"election_data.csv\")\n",
    "\n",
    "#open the CSV\n",
    "with open(csvpath, newline=\"\", encoding='utf-8') as csvfile: \n",
    "    csvreader = csv.reader(csvfile)\n",
    "\n",
    "    \n",
    "    for row in csvreader:  #loop to read the csv file into 3 lists\n",
    "        voter_ID.append(row[0])  #append first filed to voter_ID\n",
    "        county.append(row[1])   #also store the profit in a temp variable \n",
    "        candidate.append(row[2]) #add canddiate \n",
    "\n",
    "#this loop is to separate the unique candidates into a new list unique_candidates        \n",
    "for i in candidate:\n",
    "    if i in unique_candidates:\n",
    "        continue\n",
    "    else:\n",
    "        unique_candidates.append(i)\n",
    "        \n",
    "    \n",
    "for j in range(1,len(unique_candidates)):\n",
    "   \n",
    "    print(\"\\n\"+ unique_candidates[j],end=\" \")\n",
    "    temp_votes = candidate.count(unique_candidates[j]) #tally of votes/candidate\n",
    "    vote_count.append(temp_votes)  #add votes/candidate to a list \n",
    "    print(temp_votes, end=\" \")\n",
    "    #print(candidate.count(unique_candidates[j]), end=\" \")\n",
    "\n",
    "    print(\"votes which is\", end=\" \") \n",
    "    percent_votes=int(temp_votes/len(candidate)*100) \n",
    "    print(percent_votes, end=\" \")\n",
    "    print(\"percent of total votes.\") \n",
    "    \n",
    "winner = vote_count.index(max(vote_count))+1  #figure out the winner, the +1 is to acct for the header row \n",
    "print(\"\\n\"+\"Winner: \",unique_candidates[winner])\n",
    "\n"
   ]
  },
  {
   "cell_type": "code",
   "execution_count": 26,
   "metadata": {},
   "outputs": [
    {
     "name": "stdout",
     "output_type": "stream",
     "text": [
      "['Candidate', 'Khan', 'Correy', 'Li', \"O'Tooley\"]\n",
      "5\n",
      "1\n",
      "5\n",
      "2\n",
      "5\n",
      "3\n",
      "5\n",
      "4\n"
     ]
    },
    {
     "ename": "IndexError",
     "evalue": "list index out of range",
     "output_type": "error",
     "traceback": [
      "\u001b[1;31m---------------------------------------------------------------------------\u001b[0m",
      "\u001b[1;31mIndexError\u001b[0m                                Traceback (most recent call last)",
      "\u001b[1;32m<ipython-input-26-39f3f3504892>\u001b[0m in \u001b[0;36m<module>\u001b[1;34m\u001b[0m\n\u001b[0;32m      8\u001b[0m         \u001b[0mprint\u001b[0m\u001b[1;33m(\u001b[0m\u001b[0mlen\u001b[0m\u001b[1;33m(\u001b[0m\u001b[0munique_candidates\u001b[0m\u001b[1;33m)\u001b[0m\u001b[1;33m)\u001b[0m\u001b[1;33m\u001b[0m\u001b[1;33m\u001b[0m\u001b[0m\n\u001b[0;32m      9\u001b[0m         \u001b[0mprint\u001b[0m\u001b[1;33m(\u001b[0m\u001b[0mj\u001b[0m\u001b[1;33m)\u001b[0m\u001b[1;33m\u001b[0m\u001b[1;33m\u001b[0m\u001b[0m\n\u001b[1;32m---> 10\u001b[1;33m         \u001b[0mvotes\u001b[0m \u001b[1;33m=\u001b[0m \u001b[0mvote_count\u001b[0m\u001b[1;33m[\u001b[0m\u001b[0mj\u001b[0m\u001b[1;33m]\u001b[0m \u001b[1;31m#temp variable to convert the vote count to string\u001b[0m\u001b[1;33m\u001b[0m\u001b[1;33m\u001b[0m\u001b[0m\n\u001b[0m\u001b[0;32m     11\u001b[0m         \u001b[0mthe_file\u001b[0m\u001b[1;33m.\u001b[0m\u001b[0mwrite\u001b[0m\u001b[1;33m(\u001b[0m\u001b[0munique_candidates\u001b[0m\u001b[1;33m[\u001b[0m\u001b[0mj\u001b[0m\u001b[1;33m]\u001b[0m \u001b[1;33m+\u001b[0m \u001b[1;34m\" \"\u001b[0m\u001b[1;33m)\u001b[0m\u001b[1;33m\u001b[0m\u001b[1;33m\u001b[0m\u001b[0m\n\u001b[0;32m     12\u001b[0m         \u001b[0mthe_file\u001b[0m\u001b[1;33m.\u001b[0m\u001b[0mwrite\u001b[0m\u001b[1;33m(\u001b[0m\u001b[0mstr\u001b[0m\u001b[1;33m(\u001b[0m\u001b[0mvotes\u001b[0m\u001b[1;33m)\u001b[0m\u001b[1;33m)\u001b[0m\u001b[1;33m\u001b[0m\u001b[1;33m\u001b[0m\u001b[0m\n",
      "\u001b[1;31mIndexError\u001b[0m: list index out of range"
     ]
    }
   ],
   "source": [
    "print(unique_candidates)\n",
    "\n",
    "#lets also output to txt\n",
    "with open(\"PyPollOUT.txt\", 'w+') as the_file:   #not using csv writer because don't want comma delimited\n",
    "    #next few lines writing exactly the same as above prints\n",
    "    the_file.write(\"Winner: \" + unique_candidates[winner])\n",
    "    for j in range(1, len(unique_candidates)):\n",
    "        print(len(unique_candidates))\n",
    "        print(j)\n",
    "        \n",
    "        #THERE IS 5 need to POP it ****************\n",
    "        \n",
    "        votes = vote_count[j] #temp variable to convert the vote count to string\n",
    "        the_file.write(unique_candidates[j] + \" \")\n",
    "        the_file.write(str(votes))\n",
    "print(unique_candidates)"
   ]
  },
  {
   "cell_type": "code",
   "execution_count": null,
   "metadata": {},
   "outputs": [],
   "source": []
  }
 ],
 "metadata": {
  "kernelspec": {
   "display_name": "Python 3",
   "language": "python",
   "name": "python3"
  },
  "language_info": {
   "codemirror_mode": {
    "name": "ipython",
    "version": 3
   },
   "file_extension": ".py",
   "mimetype": "text/x-python",
   "name": "python",
   "nbconvert_exporter": "python",
   "pygments_lexer": "ipython3",
   "version": "3.7.1"
  }
 },
 "nbformat": 4,
 "nbformat_minor": 2
}
